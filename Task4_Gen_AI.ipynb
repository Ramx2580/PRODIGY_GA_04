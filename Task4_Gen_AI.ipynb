{
  "nbformat": 4,
  "nbformat_minor": 0,
  "metadata": {
    "colab": {
      "provenance": [],
      "authorship_tag": "ABX9TyN6usugqrXKIvGA416kv31z",
      "include_colab_link": true
    },
    "kernelspec": {
      "name": "python3",
      "display_name": "Python 3"
    },
    "language_info": {
      "name": "python"
    }
  },
  "cells": [
    {
      "cell_type": "markdown",
      "metadata": {
        "id": "view-in-github",
        "colab_type": "text"
      },
      "source": [
        "<a href=\"https://colab.research.google.com/github/Ramx2580/PRODIGY_GA_04/blob/main/Task4_Gen_AI.ipynb\" target=\"_parent\"><img src=\"https://colab.research.google.com/assets/colab-badge.svg\" alt=\"Open In Colab\"/></a>"
      ]
    },
    {
      "cell_type": "code",
      "execution_count": null,
      "metadata": {
        "id": "uMnrj9lm6zGq"
      },
      "outputs": [],
      "source": [
        "!pip install transformers --quiet\n",
        "!pip install sentencepiece --quiet\n",
        "\n",
        "from transformers import pipeline"
      ]
    },
    {
      "cell_type": "code",
      "source": [
        "summarizer = pipeline(\"summarization\", model=\"google/pegasus-xsum\")"
      ],
      "metadata": {
        "id": "_AICqUkh8jsR"
      },
      "execution_count": null,
      "outputs": []
    },
    {
      "cell_type": "code",
      "source": [
        "long_text = \"\"\"\n",
        "Artificial Intelligence (AI) has significantly transformed numerous industries over the past decade. From healthcare and finance to transportation and education, AI technologies have enhanced efficiency, enabled automation, and driven innovative solutions. One of the most prominent subfields of AI is Natural Language Processing (NLP), which deals with the interaction between computers and human language. NLP enables machines to understand, interpret, and generate human language in a way that is both meaningful and useful. Applications of NLP include chatbots, sentiment analysis, machine translation, and text summarization, among others. As research in AI continues to advance, we can expect even more sophisticated and capable systems that will further revolutionize how we interact with machines and utilize digital information.\n",
        "\"\"\"\n",
        "\n",
        "summary = summarizer(long_text, max_length=60, min_length=20, do_sample=False)\n",
        "print(\"Summary:\")\n",
        "print(summary[0]['summary_text'])"
      ],
      "metadata": {
        "id": "qXCw1PGM9eB5"
      },
      "execution_count": null,
      "outputs": []
    }
  ]
}